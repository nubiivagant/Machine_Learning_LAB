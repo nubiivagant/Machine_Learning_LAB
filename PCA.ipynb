{
  "nbformat": 4,
  "nbformat_minor": 0,
  "metadata": {
    "colab": {
      "provenance": []
    },
    "kernelspec": {
      "name": "python3",
      "display_name": "Python 3"
    },
    "language_info": {
      "name": "python"
    }
  },
  "cells": [
    {
      "cell_type": "code",
      "execution_count": null,
      "metadata": {
        "id": "ZaK5L08lnXSi"
      },
      "outputs": [],
      "source": [
        "import numpy as np\n",
        "import pandas as pd\n",
        "import matplotlib.pyplot as plt"
      ]
    },
    {
      "cell_type": "code",
      "source": [
        "#step 1: sample dataset (10 records, 3 features)\n",
        "data = np.array([\n",
        "    [2.5, 2.4, 1.2],\n",
        "    [0.5, 0.7, 0.3],\n",
        "    [2.2, 2.9, 1.4],\n",
        "    [1.9, 2.2, 1.1],\n",
        "    [3.1, 3.0, 1.7],\n",
        "    [2.3, 2.7, 1.5],\n",
        "    [2.0, 1.6, 0.9],\n",
        "    [1.0, 1.1, 0.4],\n",
        "    [1.5, 1.6, 0.8],\n",
        "    [1.1, 0.9, 0.2]\n",
        "])\n",
        "df =pd.DataFrame(data, columns=[\"X\", \"Y\", \"Z\"])"
      ],
      "metadata": {
        "id": "53twhrE4oAzH"
      },
      "execution_count": null,
      "outputs": []
    },
    {
      "cell_type": "code",
      "source": [
        "#standardization using pandas\n",
        "df_standardized = (df - df.mean()) / df.std()"
      ],
      "metadata": {
        "id": "Iay3IzC7qUAQ"
      },
      "execution_count": null,
      "outputs": []
    },
    {
      "cell_type": "code",
      "source": [
        "#covariance matrix\n",
        "cov_matrix = np.cov(df_standardized.T)\n",
        "print(\"Covariance Matrix:\")\n",
        "print(cov_matrix)"
      ],
      "metadata": {
        "id": "GfShuLtBqYNh",
        "colab": {
          "base_uri": "https://localhost:8080/"
        },
        "outputId": "7921cebb-7a94-4062-b20f-e3e6a65da112"
      },
      "execution_count": null,
      "outputs": [
        {
          "output_type": "stream",
          "name": "stdout",
          "text": [
            "Covariance Matrix:\n",
            "[[1.         0.92592927 0.93688744]\n",
            " [0.92592927 1.         0.98192228]\n",
            " [0.93688744 0.98192228 1.        ]]\n"
          ]
        }
      ]
    },
    {
      "cell_type": "code",
      "source": [
        "#define eigen values and eigen vectors\n",
        "eigenvalues, eigenvectors = np.linalg.eig(cov_matrix)"
      ],
      "metadata": {
        "id": "iKcMPfncqYKY"
      },
      "execution_count": null,
      "outputs": []
    },
    {
      "cell_type": "code",
      "source": [
        "#sort eigenvalues and eigen vectors\n",
        "sorted_indices = np.argsort(eigenvalues)[::-1]\n",
        "sorted_eigenvalues = eigenvalues[sorted_indices]\n",
        "sorted_eigenvectors = eigenvectors[:, sorted_indices]"
      ],
      "metadata": {
        "id": "ysDc7pljrKFP"
      },
      "execution_count": null,
      "outputs": []
    },
    {
      "cell_type": "code",
      "source": [
        "#select top 2 eigenvectors\n",
        "eigen_vector_subset = sorted_eigenvectors[:, :2]"
      ],
      "metadata": {
        "id": "h24UwOSNrtZd"
      },
      "execution_count": null,
      "outputs": []
    },
    {
      "cell_type": "code",
      "source": [
        "#project data to new basis\n",
        "reduced_data = df_standardized.to_numpy().dot(eigen_vector_subset)\n",
        "reduced_df = pd.DataFrame(reduced_data, columns=['PC1', 'PC2'])"
      ],
      "metadata": {
        "id": "b3qK3XQtrtWG"
      },
      "execution_count": null,
      "outputs": []
    },
    {
      "cell_type": "code",
      "source": [
        "#output\n",
        "print(\"Reduced Data:\", reduced_df)"
      ],
      "metadata": {
        "id": "5AxhrW-it8t3",
        "colab": {
          "base_uri": "https://localhost:8080/"
        },
        "outputId": "e348a620-6220-4c64-973e-e6eb3e532ff0"
      },
      "execution_count": null,
      "outputs": [
        {
          "output_type": "stream",
          "name": "stdout",
          "text": [
            "Reduced Data:         PC1       PC2\n",
            "0  1.114772  0.287461\n",
            "1 -2.502976 -0.278755\n",
            "2  1.461615 -0.429478\n",
            "3  0.430754 -0.162708\n",
            "4  2.517452  0.260130\n",
            "5  1.508478 -0.278933\n",
            "6 -0.129861  0.401224\n",
            "7 -1.754639 -0.043244\n",
            "8 -0.604269 -0.055335\n",
            "9 -2.041325  0.299640\n"
          ]
        }
      ]
    },
    {
      "cell_type": "code",
      "source": [
        "#scatter plot\n",
        "plt.figure(figsize=(8, 6))\n",
        "plt.scatter(reduced_df['PC1'], reduced_df['PC2'], color = 'pink', edgecolor = 'k')\n",
        "plt.xlabel('PC1')\n",
        "plt.ylabel('PC2')\n",
        "plt.title('PCA projection')\n",
        "plt.grid(True)\n",
        "plt.show()"
      ],
      "metadata": {
        "colab": {
          "base_uri": "https://localhost:8080/",
          "height": 564
        },
        "id": "ZVs9kWaoufA_",
        "outputId": "7e8976ba-5ed9-4b35-f8b5-35cb7c45efe5"
      },
      "execution_count": null,
      "outputs": [
        {
          "output_type": "display_data",
          "data": {
            "text/plain": [
              "<Figure size 800x600 with 1 Axes>"
            ],
            "image/png": "[encoded data removed]"
          },
          "metadata": {}
        }
      ]
    },
    {
      "cell_type": "code",
      "source": [],
      "metadata": {
        "id": "DGhncnZ8u2Xp"
      },
      "execution_count": null,
      "outputs": []
    }
  ]
}