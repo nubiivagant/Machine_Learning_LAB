{
 "cells": [
  {
   "cell_type": "code",
   "execution_count": 1,
   "id": "1e010195-1ddf-4c48-b064-7ec414774fca",
   "metadata": {},
   "outputs": [],
   "source": [
    "import numpy as np\n",
    "import pandas as pd\n",
    "import matplotlib.pyplot as plt\n",
    "from mlxtend.frequent_patterns import apriori, association_rules"
   ]
  },
  {
   "cell_type": "code",
   "execution_count": 3,
   "id": "67510b27-bacf-4930-b872-2a32d1003a7c",
   "metadata": {},
   "outputs": [],
   "source": [
    "dataset = [\n",
    "    ['milk', 'bread', 'nuts', 'apple'],\n",
    "    ['milk', 'bread', 'nuts'],\n",
    "    ['milk', 'bread'],\n",
    "    ['milk', 'apple'],\n",
    "    ['bread', 'apple'],\n",
    "    ['milk', 'bread', 'apple'],\n",
    "    ['milk', 'bread', 'apple'],\n",
    "    ['bread', 'nuts']\n",
    "]"
   ]
  },
  {
   "cell_type": "code",
   "execution_count": 5,
   "id": "b5bf5a6e-3a7f-4be2-9858-d71faf7303fd",
   "metadata": {},
   "outputs": [],
   "source": [
    "from mlxtend.preprocessing import TransactionEncoder\n",
    "te= TransactionEncoder()\n",
    "te_array = te.fit(dataset).transform(dataset)\n",
    "df = pd.DataFrame(te_array, columns = te.columns_)"
   ]
  },
  {
   "cell_type": "code",
   "execution_count": 7,
   "id": "4ae2333d-4306-4aad-9ced-d29b7fee36bd",
   "metadata": {},
   "outputs": [
    {
     "name": "stdout",
     "output_type": "stream",
     "text": [
      "One-Hot Encoded Transaction Data:\n",
      "   apple  bread   milk   nuts\n",
      "0   True   True   True   True\n",
      "1  False   True   True   True\n",
      "2  False   True   True  False\n",
      "3   True  False   True  False\n",
      "4   True   True  False  False\n",
      "5   True   True   True  False\n",
      "6   True   True   True  False\n",
      "7  False   True  False   True\n"
     ]
    }
   ],
   "source": [
    "print(\"One-Hot Encoded Transaction Data:\")\n",
    "print(df)"
   ]
  },
  {
   "cell_type": "code",
   "execution_count": 9,
   "id": "f47b3258-73c7-4c62-a3fe-403f7dc8088d",
   "metadata": {},
   "outputs": [
    {
     "name": "stdout",
     "output_type": "stream",
     "text": [
      "\n",
      " Frequent Itemsets:\n",
      "   support              itemsets\n",
      "0    0.625               (apple)\n",
      "1    0.875               (bread)\n",
      "2    0.750                (milk)\n",
      "3    0.375                (nuts)\n",
      "4    0.500        (bread, apple)\n",
      "5    0.500         (milk, apple)\n",
      "6    0.625         (milk, bread)\n",
      "7    0.375         (nuts, bread)\n",
      "8    0.375  (milk, bread, apple)\n"
     ]
    }
   ],
   "source": [
    "frequent_itemsets = apriori(df, min_support = 0.3, use_colnames = True)\n",
    "print(\"\\n Frequent Itemsets:\")\n",
    "print(frequent_itemsets)"
   ]
  },
  {
   "cell_type": "code",
   "execution_count": 15,
   "id": "84fe27f9-4cdc-4f4d-8eb5-95a10ebcd71d",
   "metadata": {},
   "outputs": [
    {
     "name": "stdout",
     "output_type": "stream",
     "text": [
      "\n",
      " Association Rules:\n",
      "      antecedents     consequents  support  confidence      lift\n",
      "0          (milk)         (apple)    0.500    0.666667  1.066667\n",
      "1         (apple)          (milk)    0.500    0.800000  1.066667\n",
      "2          (nuts)         (bread)    0.375    1.000000  1.142857\n",
      "3         (bread)          (nuts)    0.375    0.428571  1.142857\n",
      "4  (bread, apple)          (milk)    0.375    0.750000  1.000000\n",
      "5          (milk)  (bread, apple)    0.375    0.500000  1.000000\n"
     ]
    }
   ],
   "source": [
    "rules = association_rules(frequent_itemsets, metric=\"lift\", min_threshold = 1.0)\n",
    "print(\"\\n Association Rules:\")\n",
    "print(rules[['antecedents','consequents','support','confidence','lift']])"
   ]
  },
  {
   "cell_type": "code",
   "execution_count": 17,
   "id": "0b8155b4-22a1-4b00-a237-c5c7c559a167",
   "metadata": {},
   "outputs": [
    {
     "name": "stdout",
     "output_type": "stream",
     "text": [
      "\n",
      " Top Rules by Lift:\n",
      "      antecedents     consequents  support  confidence      lift\n",
      "2          (nuts)         (bread)    0.375    1.000000  1.142857\n",
      "3         (bread)          (nuts)    0.375    0.428571  1.142857\n",
      "0          (milk)         (apple)    0.500    0.666667  1.066667\n",
      "1         (apple)          (milk)    0.500    0.800000  1.066667\n",
      "4  (bread, apple)          (milk)    0.375    0.750000  1.000000\n",
      "5          (milk)  (bread, apple)    0.375    0.500000  1.000000\n"
     ]
    }
   ],
   "source": [
    "rules = rules.sort_values(by='lift', ascending=False)\n",
    "print(\"\\n Top Rules by Lift:\")\n",
    "print(rules[['antecedents','consequents','support','confidence','lift']])"
   ]
  },
  {
   "cell_type": "code",
   "execution_count": null,
   "id": "47e0132c-ade8-4c14-9dae-90ed8b491af5",
   "metadata": {},
   "outputs": [],
   "source": []
  }
 ],
 "metadata": {
  "kernelspec": {
   "display_name": "Python 3 (ipykernel)",
   "language": "python",
   "name": "python3"
  },
  "language_info": {
   "codemirror_mode": {
    "name": "ipython",
    "version": 3
   },
   "file_extension": ".py",
   "mimetype": "text/x-python",
   "name": "python",
   "nbconvert_exporter": "python",
   "pygments_lexer": "ipython3",
   "version": "3.12.7"
  }
 },
 "nbformat": 4,
 "nbformat_minor": 5
}
