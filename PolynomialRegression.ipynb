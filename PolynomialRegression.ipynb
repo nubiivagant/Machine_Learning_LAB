{
  "nbformat": 4,
  "nbformat_minor": 0,
  "metadata": {
    "colab": {
      "provenance": []
    },
    "kernelspec": {
      "name": "python3",
      "display_name": "Python 3"
    },
    "language_info": {
      "name": "python"
    }
  },
  "cells": [
    {
      "cell_type": "code",
      "execution_count": null,
      "metadata": {
        "id": "YwIwF7zYt2_O"
      },
      "outputs": [],
      "source": [
        "#polynomial regression degree 2"
      ]
    },
    {
      "cell_type": "code",
      "source": [
        "import numpy as np\n",
        "from sklearn.preprocessing import PolynomialFeatures\n",
        "from sklearn.linear_model import LinearRegression\n",
        "from sklearn.metrics import mean_absolute_error, mean_squared_error, r2_score"
      ],
      "metadata": {
        "id": "3RJ2wke2vp13"
      },
      "execution_count": null,
      "outputs": []
    },
    {
      "cell_type": "code",
      "source": [
        "x = np.array([1,2,3,4,5]).reshape(-1, 1)\n",
        "y = np.array([20,40,50,65,80])"
      ],
      "metadata": {
        "id": "WPhlAzPOwGpO"
      },
      "execution_count": null,
      "outputs": []
    },
    {
      "cell_type": "code",
      "source": [
        "#design matrix\n",
        "X_manual = np.column_stack((np.ones(len(x)), x, x**2))"
      ],
      "metadata": {
        "id": "Ny1-3q8KwRwb"
      },
      "execution_count": null,
      "outputs": []
    },
    {
      "cell_type": "code",
      "source": [
        "#normal equation: (X^T X) ^ X^T y\n",
        "beta = np.linalg.inv(X_manual.T @ X_manual) @ (X_manual.T @ y)"
      ],
      "metadata": {
        "id": "rkvqcFkmww-F"
      },
      "execution_count": null,
      "outputs": []
    },
    {
      "cell_type": "code",
      "source": [
        "print(\"coefficients (b0, b1, b2): \", beta)"
      ],
      "metadata": {
        "colab": {
          "base_uri": "https://localhost:8080/"
        },
        "id": "-zTN1fkvxDms",
        "outputId": "85686955-d516-4220-8cd0-02d45138ffe8"
      },
      "execution_count": null,
      "outputs": [
        {
          "output_type": "stream",
          "name": "stdout",
          "text": [
            "coefficients (b0, b1, b2):  [ 5.         16.64285714 -0.35714286]\n"
          ]
        }
      ]
    },
    {
      "cell_type": "code",
      "source": [
        "y_pred_manual = X_manual @ beta"
      ],
      "metadata": {
        "id": "tbEoSgRCxgBv"
      },
      "execution_count": null,
      "outputs": []
    },
    {
      "cell_type": "code",
      "source": [
        "mae = mean_absolute_error(y, y_pred_manual)\n",
        "mse = mean_squared_error(y, y_pred_manual)\n",
        "rmse = np.sqrt(mse)\n",
        "r2 = r2_score(y, y_pred_manual)"
      ],
      "metadata": {
        "id": "itpzcdAbxj4K"
      },
      "execution_count": null,
      "outputs": []
    },
    {
      "cell_type": "code",
      "source": [
        "print(mae)\n",
        "print(mse)\n",
        "print(rmse)\n",
        "print(r2)"
      ],
      "metadata": {
        "colab": {
          "base_uri": "https://localhost:8080/"
        },
        "id": "NsZFMRYexzu9",
        "outputId": "8edc4ed9-8a0a-4418-aa74-978d9351f4e5"
      },
      "execution_count": null,
      "outputs": [
        {
          "output_type": "stream",
          "name": "stdout",
          "text": [
            "1.5428571428571765\n",
            "3.142857142857151\n",
            "1.772810520855839\n",
            "0.9925876010781671\n"
          ]
        }
      ]
    },
    {
      "cell_type": "code",
      "source": [],
      "metadata": {
        "id": "_SVqjg2Nx6kT"
      },
      "execution_count": null,
      "outputs": []
    }
  ]
}