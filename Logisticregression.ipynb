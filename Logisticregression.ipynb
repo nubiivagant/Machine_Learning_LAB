{
  "nbformat": 4,
  "nbformat_minor": 0,
  "metadata": {
    "colab": {
      "provenance": []
    },
    "kernelspec": {
      "name": "python3",
      "display_name": "Python 3"
    },
    "language_info": {
      "name": "python"
    }
  },
  "cells": [
    {
      "cell_type": "code",
      "execution_count": null,
      "metadata": {
        "id": "MGok-hjh1KDE"
      },
      "outputs": [],
      "source": [
        "import numpy as np\n",
        "import pandas as pd\n",
        "import matplotlib.pyplot as plt"
      ]
    },
    {
      "cell_type": "code",
      "source": [
        "X = np.array([1., 2., 3., 4., 5.])\n",
        "y = np.array([0., 0., 0., 1., 1.])\n",
        "m = len(y)"
      ],
      "metadata": {
        "id": "W1_jz-712I3E"
      },
      "execution_count": null,
      "outputs": []
    },
    {
      "cell_type": "code",
      "source": [
        "def sigmoid(z):\n",
        "  return 1.0/(1.0 + np.exp(-z))"
      ],
      "metadata": {
        "id": "n27_v1Ha2TMr"
      },
      "execution_count": null,
      "outputs": []
    },
    {
      "cell_type": "code",
      "source": [
        "b0 = 0.0\n",
        "b1 = 0.0\n",
        "alpha = 0.1"
      ],
      "metadata": {
        "id": "GRBH4tRC2a2U"
      },
      "execution_count": null,
      "outputs": []
    },
    {
      "cell_type": "code",
      "source": [
        "z = b0 + b1 * X\n",
        "h = sigmoid(z)\n",
        "eps = 1e-15\n",
        "\n",
        "initial_cost = -(1.0/m) * np.sum(y*np.log(h+eps) + (1-y)*np.log(1-h+eps))\n",
        "print(h)\n",
        "print(initial_cost)"
      ],
      "metadata": {
        "colab": {
          "base_uri": "https://localhost:8080/"
        },
        "id": "ZIPt3kZC2edD",
        "outputId": "929c797b-67be-411e-ba0b-579b4a90329b"
      },
      "execution_count": null,
      "outputs": [
        {
          "output_type": "stream",
          "name": "stdout",
          "text": [
            "[0.5 0.5 0.5 0.5 0.5]\n",
            "0.6931471805599433\n"
          ]
        }
      ]
    },
    {
      "cell_type": "code",
      "source": [
        "# Gradients at initial params\n",
        "h_minus_y = h - y\n",
        "grad_b0 = np. mean(h_minus_y)\n",
        "grad_b1 = np. mean(h_minus_y * X)\n",
        "print (\"grad_b0 =\", grad_b0)\n",
        "print (\"grad_b1 =\", grad_b1)"
      ],
      "metadata": {
        "colab": {
          "base_uri": "https://localhost:8080/"
        },
        "id": "yjIfBii32wR6",
        "outputId": "f71f4d87-824e-4046-deed-165b60fc37ea"
      },
      "execution_count": null,
      "outputs": [
        {
          "output_type": "stream",
          "name": "stdout",
          "text": [
            "grad_b0 = 0.1\n",
            "grad_b1 = -0.3\n"
          ]
        }
      ]
    },
    {
      "cell_type": "code",
      "source": [
        "b0_new = b0 - alpha * grad_b0\n",
        "b1_new = b1 - alpha * grad_b1\n",
        "print(\"After one update: b0 =\", b0_new,  \", b1 =\", b1_new)"
      ],
      "metadata": {
        "colab": {
          "base_uri": "https://localhost:8080/"
        },
        "id": "l3lcCXsS4Qgy",
        "outputId": "dc0a4f7c-189c-4cb6-b3fd-bf6fa05a7b79"
      },
      "execution_count": null,
      "outputs": [
        {
          "output_type": "stream",
          "name": "stdout",
          "text": [
            "After one update: b0 = -0.010000000000000002 , b1 = 0.03\n"
          ]
        }
      ]
    },
    {
      "cell_type": "code",
      "source": [
        "b0, b1 = 0.0, 0.0\n",
        "n_iter = 2000\n",
        "history = []\n",
        "for it in range(n_iter):\n",
        "  z = b0 + b1 * X\n",
        "  h = sigmoid(z)\n",
        "  grad_b0 = np.mean(h - y)\n",
        "  grad_b1 = np.mean((h - y) * X)\n",
        "  cost = - (1.0 / m) * np.sum(y * np.log(h + eps) + (1-y) * np.log(1 - h + eps))\n",
        "  history.append((it, b0, b1, cost))\n",
        "  b0 -= alpha * grad_b0\n",
        "  history.append((it, b0, b1, cost))\n",
        "  b0 -= alpha * grad_b0\n",
        "  b1 -= alpha * grad_b1"
      ],
      "metadata": {
        "id": "KGMc055970qI"
      },
      "execution_count": null,
      "outputs": []
    },
    {
      "cell_type": "code",
      "source": [
        "print(\"\\nFinal parameters after {} iterations:\". format(n_iter))\n",
        "print(\" b0 =\", b0)\n",
        "print(\" b1 =\", b1)\n",
        "decision_boundary = -b0 / b1\n",
        "print (\"Decision boundary x =\", decision_boundary)\n",
        "print(\"Final cost J =\", history[-1][3])"
      ],
      "metadata": {
        "colab": {
          "base_uri": "https://localhost:8080/"
        },
        "id": "lRhj_uwC726Q",
        "outputId": "9a05b7bd-7662-4f04-9f5d-ebfcc95b1664"
      },
      "execution_count": null,
      "outputs": [
        {
          "output_type": "stream",
          "name": "stdout",
          "text": [
            "\n",
            "Final parameters after 2000 iterations:\n",
            " b0 = -10.497063856868579\n",
            " b1 = 3.0461981189207514\n",
            "Decision boundary x = 3.4459557281151567\n",
            "Final cost J = 0.08401396933421902\n"
          ]
        }
      ]
    },
    {
      "cell_type": "code",
      "source": [
        "# Plot data and learned probability curve\n",
        "X_plot = np. linspace(0, 6,200)\n",
        "y_plot = sigmoid (b0 + b1 * X_plot)"
      ],
      "metadata": {
        "id": "qTeeCdDb74_o"
      },
      "execution_count": null,
      "outputs": []
    },
    {
      "cell_type": "code",
      "source": [
        "import matplotlib.pyplot as plt\n",
        "\n",
        "plt.figure(figsize=(8,5))\n",
        "plt.scatter (X, y)\n",
        "plt.plot (X_plot, y_plot)\n",
        "plt.axhline(0.5, linestyle='--')"
      ],
      "metadata": {
        "colab": {
          "base_uri": "https://localhost:8080/",
          "height": 462
        },
        "id": "RMJhgHkq77LZ",
        "outputId": "53e57277-4c9b-4c21-8b67-5e7c3164a684"
      },
      "execution_count": null,
      "outputs": [
        {
          "output_type": "execute_result",
          "data": {
            "text/plain": [
              "<matplotlib.lines.Line2D at 0x7d13d99ac650>"
            ]
          },
          "metadata": {},
          "execution_count": 18
        },
        {
          "output_type": "display_data",
          "data": {
            "text/plain": [
              "<Figure size 800x500 with 1 Axes>"
            ],
            "image/png": "[encoded data removed]"
          },
          "metadata": {}
        }
      ]
    },
    {
      "cell_type": "code",
      "source": [],
      "metadata": {
        "id": "aNK0nFx479Fo"
      },
      "execution_count": null,
      "outputs": []
    }
  ]
}